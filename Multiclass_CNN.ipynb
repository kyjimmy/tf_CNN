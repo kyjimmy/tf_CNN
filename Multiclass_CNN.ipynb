{
 "cells": [
  {
   "cell_type": "markdown",
   "metadata": {},
   "source": [
    "### This script trains a CNN model to classify \"Sign Language MNIST\" dataset."
   ]
  },
  {
   "cell_type": "code",
   "execution_count": 1,
   "metadata": {
    "colab": {},
    "colab_type": "code",
    "id": "wYtuKeK0dImp"
   },
   "outputs": [],
   "source": [
    "# Load packages/modules\n",
    "import csv\n",
    "import numpy as np\n",
    "import tensorflow as tf\n",
    "from tensorflow.keras.preprocessing.image import ImageDataGenerator\n",
    "from os import getcwd\n",
    "import os"
   ]
  },
  {
   "cell_type": "markdown",
   "metadata": {},
   "source": [
    "### Download dataset from \"https://www.kaggle.com/datamunge/sign-language-mnist\""
   ]
  },
  {
   "cell_type": "code",
   "execution_count": 2,
   "metadata": {
    "colab": {},
    "colab_type": "code",
    "id": "4kxw-_rmcnVu"
   },
   "outputs": [
    {
     "name": "stdout",
     "output_type": "stream",
     "text": [
      "Training images shape: (27455, 28, 28)\n",
      "Training labels shape: (27455,)\n",
      "Testing images shape: (7172, 28, 28)\n",
      "Testing labels shape: (7172,)\n"
     ]
    }
   ],
   "source": [
    "def get_data(filename):\n",
    "    with open(filename) as training_file:\n",
    "        reader = csv.reader(training_file, delimiter=',') \n",
    "        next(reader)\n",
    "        temp_labels = []\n",
    "        temp_images = []\n",
    "        \n",
    "        for row in reader:\n",
    "            label = row[0]\n",
    "            image = row[1:785]\n",
    "            image = np.array_split(image,28)\n",
    "            temp_labels.append(label)\n",
    "            temp_images.append(image)\n",
    "        \n",
    "        images = np.array(temp_images).astype(float)\n",
    "        labels = np.array(temp_labels).astype(float)                   \n",
    "    return images, labels\n",
    "\n",
    "# Change base directory (where you save the downloaded folder)\n",
    "base_dir = \"/Users/jimmy/Downloads/3258_5337_bundle_archive\"\n",
    "\n",
    "path_sign_mnist_train = os.path.join(base_dir,\"sign_mnist_train.csv\")\n",
    "path_sign_mnist_test = os.path.join(base_dir,\"sign_mnist_test.csv\")\n",
    "\n",
    "# Extract data from csv\n",
    "training_images, training_labels = get_data(path_sign_mnist_train)\n",
    "testing_images, testing_labels = get_data(path_sign_mnist_test)\n",
    "\n",
    "print('Training images shape:',training_images.shape)\n",
    "print('Training labels shape:',training_labels.shape)\n",
    "print('Testing images shape:',testing_images.shape)\n",
    "print('Testing labels shape:',testing_labels.shape)"
   ]
  },
  {
   "cell_type": "code",
   "execution_count": 3,
   "metadata": {
    "colab": {},
    "colab_type": "code",
    "id": "awoqRpyZdQkD"
   },
   "outputs": [
    {
     "name": "stdout",
     "output_type": "stream",
     "text": [
      "Training images shape: (27455, 28, 28, 1)\n",
      "Testing images shape: (7172, 28, 28, 1)\n"
     ]
    }
   ],
   "source": [
    "training_images = np.expand_dims(training_images,3)\n",
    "testing_images = np.expand_dims(testing_images,3)\n",
    "\n",
    "# Create ImageDataGenerator for training data with image augmentation\n",
    "train_datagen = ImageDataGenerator(\n",
    "    rescale=1/255,\n",
    "    width_shift_range=0.2,\n",
    "    height_shift_range=0.2,\n",
    "    rotation_range=40,\n",
    "    horizontal_flip=True   \n",
    "    )\n",
    "\n",
    "# Create ImageDataGenerator for testing data\n",
    "validation_datagen = ImageDataGenerator(\n",
    "    rescale=1/255)\n",
    "    \n",
    "print('Training images shape:',training_images.shape)\n",
    "print('Testing images shape:',testing_images.shape) "
   ]
  },
  {
   "cell_type": "code",
   "execution_count": 4,
   "metadata": {
    "colab": {},
    "colab_type": "code",
    "id": "Rmb7S32cgRqS"
   },
   "outputs": [
    {
     "name": "stdout",
     "output_type": "stream",
     "text": [
      "WARNING:tensorflow:From <ipython-input-4-e4ee3a105a8a>:34: Model.fit_generator (from tensorflow.python.keras.engine.training) is deprecated and will be removed in a future version.\n",
      "Instructions for updating:\n",
      "Please use Model.fit, which supports generators.\n",
      "Epoch 1/10\n",
      "858/858 [==============================] - 39s 45ms/step - loss: 2.7034 - accuracy: 0.1616 - val_loss: 2.0314 - val_accuracy: 0.3204\n",
      "Epoch 2/10\n",
      "858/858 [==============================] - 38s 44ms/step - loss: 1.8893 - accuracy: 0.3856 - val_loss: 1.4520 - val_accuracy: 0.4834\n",
      "Epoch 3/10\n",
      "858/858 [==============================] - 44s 51ms/step - loss: 1.5038 - accuracy: 0.4973 - val_loss: 1.1771 - val_accuracy: 0.6088\n",
      "Epoch 4/10\n",
      "858/858 [==============================] - 41s 48ms/step - loss: 1.2745 - accuracy: 0.5729 - val_loss: 0.8786 - val_accuracy: 0.6697\n",
      "Epoch 5/10\n",
      "858/858 [==============================] - 40s 46ms/step - loss: 1.1325 - accuracy: 0.6165 - val_loss: 0.7564 - val_accuracy: 0.7309\n",
      "Epoch 6/10\n",
      "858/858 [==============================] - 39s 45ms/step - loss: 1.0068 - accuracy: 0.6552 - val_loss: 0.6733 - val_accuracy: 0.7596\n",
      "Epoch 7/10\n",
      "858/858 [==============================] - 44s 52ms/step - loss: 0.9091 - accuracy: 0.6909 - val_loss: 0.7133 - val_accuracy: 0.7504\n",
      "Epoch 8/10\n",
      "858/858 [==============================] - 37s 44ms/step - loss: 0.8346 - accuracy: 0.7159 - val_loss: 0.6143 - val_accuracy: 0.7840\n",
      "Epoch 9/10\n",
      "858/858 [==============================] - 39s 45ms/step - loss: 0.7803 - accuracy: 0.7315 - val_loss: 0.5371 - val_accuracy: 0.7895\n",
      "Epoch 10/10\n",
      "858/858 [==============================] - 38s 44ms/step - loss: 0.7322 - accuracy: 0.7504 - val_loss: 0.4864 - val_accuracy: 0.8162\n",
      "225/225 [==============================] - 2s 9ms/step - loss: 258.8774 - accuracy: 0.5778\n"
     ]
    },
    {
     "data": {
      "text/plain": [
       "[258.8774108886719, 0.5778025388717651]"
      ]
     },
     "execution_count": 4,
     "metadata": {},
     "output_type": "execute_result"
    }
   ],
   "source": [
    "# Define the model\n",
    "model = tf.keras.models.Sequential([\n",
    "    # The first 2D convolution with MaxPooling\n",
    "    tf.keras.layers.Conv2D(64, (3,3), activation='relu', input_shape=(28,28,1)),\n",
    "    tf.keras.layers.MaxPooling2D(2, 2),\n",
    "    # The second 2D convolution with MaxPooling\n",
    "    tf.keras.layers.Conv2D(64, (3,3), activation='relu'),\n",
    "    tf.keras.layers.MaxPooling2D(2,2),\n",
    "    # The third 2D convolution with MaxPooling\n",
    "    tf.keras.layers.Conv2D(64, (3,3), activation='relu'),\n",
    "    tf.keras.layers.MaxPooling2D(2,2),\n",
    "    # Flatten the results \n",
    "    tf.keras.layers.Flatten(),\n",
    "    # DNN with 512 neurons\n",
    "    tf.keras.layers.Dense(512, activation='relu'),\n",
    "    # DNN with 512 neurons\n",
    "    tf.keras.layers.Dense(26, activation='softmax')\n",
    "])\n",
    "\n",
    "# Compile Model. \n",
    "model.compile(optimizer='adam',\n",
    "              loss='sparse_categorical_crossentropy',\n",
    "              metrics=['accuracy'])\n",
    "\n",
    "train_generator = train_datagen.flow(training_images,\n",
    "                                     training_labels,\n",
    "                                     batch_size=32)\n",
    "validation_generator = validation_datagen.flow(testing_images,\n",
    "                                               testing_labels,\n",
    "                                               batch_size=32)\n",
    "# Train the Model\n",
    "history = model.fit_generator(train_generator,\n",
    "                              epochs= 10,\n",
    "                              validation_data=validation_generator)\n",
    "\n",
    "model.evaluate(testing_images, testing_labels, verbose=1)"
   ]
  },
  {
   "cell_type": "code",
   "execution_count": 5,
   "metadata": {
    "colab": {},
    "colab_type": "code",
    "id": "_Q3Zpr46dsij"
   },
   "outputs": [
    {
     "data": {
      "image/png": "[encoded data removed]",
      "text/plain": [
       "<Figure size 720x360 with 2 Axes>"
      ]
     },
     "metadata": {
      "needs_background": "light"
     },
     "output_type": "display_data"
    }
   ],
   "source": [
    "# Plot images\n",
    "import matplotlib.pyplot as plt\n",
    "%matplotlib inline\n",
    "\n",
    "#-----------------------------------------------------------\n",
    "# Get the metrices of performance (accuracy & loss)\n",
    "#-----------------------------------------------------------\n",
    "acc = history.history['accuracy']\n",
    "val_acc = history.history['val_accuracy']\n",
    "loss = history.history['loss']\n",
    "val_loss = history.history['val_loss']\n",
    "epochs = range(len(acc))\n",
    "\n",
    "#----------------------------------------------------------\n",
    "# Plot training and validation accuracy per epoch\n",
    "#----------------------------------------------------------\n",
    "plt.subplots(2,1,figsize=(10,5))\n",
    "plt.subplot(2,1,1)\n",
    "plt.plot(epochs, acc, 'r', label='Training accuracy')\n",
    "plt.plot(epochs, val_acc, 'b', label='Validation accuracy')\n",
    "plt.xlabel('Epochs')\n",
    "plt.ylabel('Accuracy')\n",
    "plt.title('Training and validation accuracy')\n",
    "plt.legend(loc='center left',bbox_to_anchor=(1, 0.5))\n",
    "\n",
    "#------------------------------------------------\n",
    "# Plot training and validation loss per epoch\n",
    "#------------------------------------------------\n",
    "plt.subplot(2,1,2)\n",
    "plt.plot(epochs, loss, 'r', label=\"Training Loss\")\n",
    "plt.plot(epochs, val_loss, 'b', label=\"Validation Loss\")\n",
    "plt.xlabel('Epochs')\n",
    "plt.ylabel('Loss')\n",
    "plt.title('Training and validation loss')\n",
    "plt.legend(loc='center left',bbox_to_anchor=(1, 0.5))\n",
    "\n",
    "plt.tight_layout()"
   ]
  }
 ],
 "metadata": {
  "colab": {
   "name": "Exercise 8 - Question.ipynb",
   "provenance": []
  },
  "coursera": {
   "course_slug": "convolutional-neural-networks-tensorflow",
   "graded_item_id": "8mIh8",
   "launcher_item_id": "gg95t"
  },
  "kernelspec": {
   "display_name": "Python 3",
   "language": "python",
   "name": "python3"
  },
  "language_info": {
   "codemirror_mode": {
    "name": "ipython",
    "version": 3
   },
   "file_extension": ".py",
   "mimetype": "text/x-python",
   "name": "python",
   "nbconvert_exporter": "python",
   "pygments_lexer": "ipython3",
   "version": "3.7.4"
  }
 },
 "nbformat": 4,
 "nbformat_minor": 1
}
